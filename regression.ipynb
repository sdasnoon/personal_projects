{
  "nbformat": 4,
  "nbformat_minor": 0,
  "metadata": {
    "colab": {
      "name": "regression.ipynb",
      "provenance": [],
      "collapsed_sections": [],
      "authorship_tag": "ABX9TyPJjq5NF5cOeyhN+y0iTzJJ",
      "include_colab_link": true
    },
    "kernelspec": {
      "name": "python3",
      "display_name": "Python 3"
    }
  },
  "cells": [
    {
      "cell_type": "markdown",
      "metadata": {
        "id": "view-in-github",
        "colab_type": "text"
      },
      "source": [
        "<a href=\"https://colab.research.google.com/github/sdasnoon/personal_projects/blob/master/regression.ipynb\" target=\"_parent\"><img src=\"https://colab.research.google.com/assets/colab-badge.svg\" alt=\"Open In Colab\"/></a>"
      ]
    },
    {
      "cell_type": "code",
      "metadata": {
        "id": "4CgLDlWNq94B",
        "colab_type": "code",
        "colab": {}
      },
      "source": [
        "#!pip install pydrive"
      ],
      "execution_count": 0,
      "outputs": []
    },
    {
      "cell_type": "markdown",
      "metadata": {
        "id": "scf16tMNU3f-",
        "colab_type": "text"
      },
      "source": [
        "# **Linear Regression**"
      ]
    },
    {
      "cell_type": "markdown",
      "metadata": {
        "id": "ykB__dGXtwIG",
        "colab_type": "text"
      },
      "source": [
        "**Import Google libraries for authentication and file download**"
      ]
    },
    {
      "cell_type": "code",
      "metadata": {
        "id": "FMLbRZz2rqds",
        "colab_type": "code",
        "colab": {}
      },
      "source": [
        "from pydrive.auth import GoogleAuth\n",
        "from pydrive.drive import GoogleDrive\n",
        "from google.colab import auth\n",
        "from oauth2client.client import GoogleCredentials"
      ],
      "execution_count": 0,
      "outputs": []
    },
    {
      "cell_type": "markdown",
      "metadata": {
        "colab_type": "text",
        "id": "0jtjrxyKVC1H"
      },
      "source": [
        "**Authenticating with google to fetch files from google drive**"
      ]
    },
    {
      "cell_type": "code",
      "metadata": {
        "id": "Udc7ApyNr0ZF",
        "colab_type": "code",
        "colab": {}
      },
      "source": [
        "auth.authenticate_user()\n",
        "gauth = GoogleAuth()\n",
        "gauth.credentials = GoogleCredentials.get_application_default()\n",
        "drive = GoogleDrive(gauth)"
      ],
      "execution_count": 0,
      "outputs": []
    },
    {
      "cell_type": "markdown",
      "metadata": {
        "colab_type": "text",
        "id": "mWIdla8HVDbl"
      },
      "source": [
        "**Download data files**"
      ]
    },
    {
      "cell_type": "code",
      "metadata": {
        "id": "VzbtNFHXsSVD",
        "colab_type": "code",
        "colab": {}
      },
      "source": [
        "downloaded = drive.CreateFile({'id':\"1M4uCzGvtMIFNptLs7R7Lux3bFE2F6N-s\"})  \n",
        "downloaded.GetContentFile('test.csv')       \n",
        "downloaded = drive.CreateFile({'id':\"1zgKTFsaqRXOCM_CFsO1BCqE6d2-AR8dC\"})   \n",
        "downloaded.GetContentFile('train.csv')       "
      ],
      "execution_count": 0,
      "outputs": []
    },
    {
      "cell_type": "markdown",
      "metadata": {
        "colab_type": "text",
        "id": "MWel4FZnVEuV"
      },
      "source": [
        "**Import Numpy, Pandas, Scikit Learn and matplotlib** <br>\n",
        "Numpy : Number processing <br>\n",
        "Pandas : dataframe processing <br>\n",
        "Scikit learn : Machine Learning <br>\n",
        "Matplotlib : Plotting graphs"
      ]
    },
    {
      "cell_type": "code",
      "metadata": {
        "id": "ZIFaqNK_uC6L",
        "colab_type": "code",
        "colab": {}
      },
      "source": [
        "# Using Sklearn Library\n",
        "import numpy as np\n",
        "import pandas as pd\n",
        "import os\n",
        "from sklearn.linear_model import LinearRegression\n",
        "from sklearn.metrics import r2_score,mean_squared_error\n",
        "import matplotlib.pyplot as plt"
      ],
      "execution_count": 0,
      "outputs": []
    },
    {
      "cell_type": "markdown",
      "metadata": {
        "colab_type": "text",
        "id": "qxNtpsu0VED1"
      },
      "source": [
        "**Reading train and test data as dataframe**"
      ]
    },
    {
      "cell_type": "code",
      "metadata": {
        "id": "GVJFAnb2ujOP",
        "colab_type": "code",
        "colab": {}
      },
      "source": [
        "df_train = pd.read_csv('train.csv')\n",
        "df_test = pd.read_csv('test.csv')"
      ],
      "execution_count": 0,
      "outputs": []
    },
    {
      "cell_type": "markdown",
      "metadata": {
        "colab_type": "text",
        "id": "Bd2l48XSVFZl"
      },
      "source": [
        "**Drop rows having null values**"
      ]
    },
    {
      "cell_type": "code",
      "metadata": {
        "id": "bmPCwHytul8h",
        "colab_type": "code",
        "colab": {}
      },
      "source": [
        "df_train = df_train.dropna()\n",
        "df_test = df_test.dropna()"
      ],
      "execution_count": 0,
      "outputs": []
    },
    {
      "cell_type": "markdown",
      "metadata": {
        "colab_type": "text",
        "id": "Rp4wpbJQVGI3"
      },
      "source": [
        "**Check Dataframe**"
      ]
    },
    {
      "cell_type": "code",
      "metadata": {
        "id": "PDPOAPczxnPo",
        "colab_type": "code",
        "outputId": "833e79ea-4da0-4001-dc90-b952d05f22ec",
        "colab": {
          "base_uri": "https://localhost:8080/",
          "height": 419
        }
      },
      "source": [
        "df_train"
      ],
      "execution_count": 0,
      "outputs": [
        {
          "output_type": "execute_result",
          "data": {
            "text/html": [
              "<div>\n",
              "<style scoped>\n",
              "    .dataframe tbody tr th:only-of-type {\n",
              "        vertical-align: middle;\n",
              "    }\n",
              "\n",
              "    .dataframe tbody tr th {\n",
              "        vertical-align: top;\n",
              "    }\n",
              "\n",
              "    .dataframe thead th {\n",
              "        text-align: right;\n",
              "    }\n",
              "</style>\n",
              "<table border=\"1\" class=\"dataframe\">\n",
              "  <thead>\n",
              "    <tr style=\"text-align: right;\">\n",
              "      <th></th>\n",
              "      <th>x</th>\n",
              "      <th>y</th>\n",
              "    </tr>\n",
              "  </thead>\n",
              "  <tbody>\n",
              "    <tr>\n",
              "      <th>0</th>\n",
              "      <td>24.0</td>\n",
              "      <td>21.549452</td>\n",
              "    </tr>\n",
              "    <tr>\n",
              "      <th>1</th>\n",
              "      <td>50.0</td>\n",
              "      <td>47.464463</td>\n",
              "    </tr>\n",
              "    <tr>\n",
              "      <th>2</th>\n",
              "      <td>15.0</td>\n",
              "      <td>17.218656</td>\n",
              "    </tr>\n",
              "    <tr>\n",
              "      <th>3</th>\n",
              "      <td>38.0</td>\n",
              "      <td>36.586398</td>\n",
              "    </tr>\n",
              "    <tr>\n",
              "      <th>4</th>\n",
              "      <td>87.0</td>\n",
              "      <td>87.288984</td>\n",
              "    </tr>\n",
              "    <tr>\n",
              "      <th>...</th>\n",
              "      <td>...</td>\n",
              "      <td>...</td>\n",
              "    </tr>\n",
              "    <tr>\n",
              "      <th>695</th>\n",
              "      <td>58.0</td>\n",
              "      <td>58.595006</td>\n",
              "    </tr>\n",
              "    <tr>\n",
              "      <th>696</th>\n",
              "      <td>93.0</td>\n",
              "      <td>94.625094</td>\n",
              "    </tr>\n",
              "    <tr>\n",
              "      <th>697</th>\n",
              "      <td>82.0</td>\n",
              "      <td>88.603770</td>\n",
              "    </tr>\n",
              "    <tr>\n",
              "      <th>698</th>\n",
              "      <td>66.0</td>\n",
              "      <td>63.648685</td>\n",
              "    </tr>\n",
              "    <tr>\n",
              "      <th>699</th>\n",
              "      <td>97.0</td>\n",
              "      <td>94.975266</td>\n",
              "    </tr>\n",
              "  </tbody>\n",
              "</table>\n",
              "<p>699 rows × 2 columns</p>\n",
              "</div>"
            ],
            "text/plain": [
              "        x          y\n",
              "0    24.0  21.549452\n",
              "1    50.0  47.464463\n",
              "2    15.0  17.218656\n",
              "3    38.0  36.586398\n",
              "4    87.0  87.288984\n",
              "..    ...        ...\n",
              "695  58.0  58.595006\n",
              "696  93.0  94.625094\n",
              "697  82.0  88.603770\n",
              "698  66.0  63.648685\n",
              "699  97.0  94.975266\n",
              "\n",
              "[699 rows x 2 columns]"
            ]
          },
          "metadata": {
            "tags": []
          },
          "execution_count": 9
        }
      ]
    },
    {
      "cell_type": "code",
      "metadata": {
        "id": "Ng3ziZZUx3dO",
        "colab_type": "code",
        "outputId": "dbd58e84-fbe8-4513-e53f-bb7fe995ebc3",
        "colab": {
          "base_uri": "https://localhost:8080/",
          "height": 419
        }
      },
      "source": [
        "df_test"
      ],
      "execution_count": 0,
      "outputs": [
        {
          "output_type": "execute_result",
          "data": {
            "text/html": [
              "<div>\n",
              "<style scoped>\n",
              "    .dataframe tbody tr th:only-of-type {\n",
              "        vertical-align: middle;\n",
              "    }\n",
              "\n",
              "    .dataframe tbody tr th {\n",
              "        vertical-align: top;\n",
              "    }\n",
              "\n",
              "    .dataframe thead th {\n",
              "        text-align: right;\n",
              "    }\n",
              "</style>\n",
              "<table border=\"1\" class=\"dataframe\">\n",
              "  <thead>\n",
              "    <tr style=\"text-align: right;\">\n",
              "      <th></th>\n",
              "      <th>x</th>\n",
              "      <th>y</th>\n",
              "    </tr>\n",
              "  </thead>\n",
              "  <tbody>\n",
              "    <tr>\n",
              "      <th>0</th>\n",
              "      <td>77</td>\n",
              "      <td>79.775152</td>\n",
              "    </tr>\n",
              "    <tr>\n",
              "      <th>1</th>\n",
              "      <td>21</td>\n",
              "      <td>23.177279</td>\n",
              "    </tr>\n",
              "    <tr>\n",
              "      <th>2</th>\n",
              "      <td>22</td>\n",
              "      <td>25.609262</td>\n",
              "    </tr>\n",
              "    <tr>\n",
              "      <th>3</th>\n",
              "      <td>20</td>\n",
              "      <td>17.857388</td>\n",
              "    </tr>\n",
              "    <tr>\n",
              "      <th>4</th>\n",
              "      <td>36</td>\n",
              "      <td>41.849864</td>\n",
              "    </tr>\n",
              "    <tr>\n",
              "      <th>...</th>\n",
              "      <td>...</td>\n",
              "      <td>...</td>\n",
              "    </tr>\n",
              "    <tr>\n",
              "      <th>295</th>\n",
              "      <td>71</td>\n",
              "      <td>68.545888</td>\n",
              "    </tr>\n",
              "    <tr>\n",
              "      <th>296</th>\n",
              "      <td>46</td>\n",
              "      <td>47.334876</td>\n",
              "    </tr>\n",
              "    <tr>\n",
              "      <th>297</th>\n",
              "      <td>55</td>\n",
              "      <td>54.090637</td>\n",
              "    </tr>\n",
              "    <tr>\n",
              "      <th>298</th>\n",
              "      <td>62</td>\n",
              "      <td>63.297171</td>\n",
              "    </tr>\n",
              "    <tr>\n",
              "      <th>299</th>\n",
              "      <td>47</td>\n",
              "      <td>52.459467</td>\n",
              "    </tr>\n",
              "  </tbody>\n",
              "</table>\n",
              "<p>300 rows × 2 columns</p>\n",
              "</div>"
            ],
            "text/plain": [
              "      x          y\n",
              "0    77  79.775152\n",
              "1    21  23.177279\n",
              "2    22  25.609262\n",
              "3    20  17.857388\n",
              "4    36  41.849864\n",
              "..   ..        ...\n",
              "295  71  68.545888\n",
              "296  46  47.334876\n",
              "297  55  54.090637\n",
              "298  62  63.297171\n",
              "299  47  52.459467\n",
              "\n",
              "[300 rows x 2 columns]"
            ]
          },
          "metadata": {
            "tags": []
          },
          "execution_count": 10
        }
      ]
    },
    {
      "cell_type": "markdown",
      "metadata": {
        "colab_type": "text",
        "id": "m882YwX0VIaE"
      },
      "source": [
        "**Assign train and test data**"
      ]
    },
    {
      "cell_type": "code",
      "metadata": {
        "id": "HitUv8hZuoaB",
        "colab_type": "code",
        "colab": {}
      },
      "source": [
        "x_train = df_train['x']\n",
        "y_train = df_train['y']\n",
        "x_test = df_test['x']\n",
        "y_test = df_test['y']"
      ],
      "execution_count": 0,
      "outputs": []
    },
    {
      "cell_type": "markdown",
      "metadata": {
        "colab_type": "text",
        "id": "MsXEp5MQVJD0"
      },
      "source": [
        "**Convert to array**"
      ]
    },
    {
      "cell_type": "code",
      "metadata": {
        "id": "oesVcn8DupqL",
        "colab_type": "code",
        "colab": {}
      },
      "source": [
        "x_train = np.array(x_train)\n",
        "y_train = np.array(y_train)\n",
        "x_test = np.array(x_test)\n",
        "y_test = np.array(y_test)"
      ],
      "execution_count": 0,
      "outputs": []
    },
    {
      "cell_type": "markdown",
      "metadata": {
        "colab_type": "text",
        "id": "dWAATyEmVJlz"
      },
      "source": [
        "**Change shape of array for readablity by sklearn**"
      ]
    },
    {
      "cell_type": "code",
      "metadata": {
        "id": "h6P1ta81w6Yt",
        "colab_type": "code",
        "colab": {}
      },
      "source": [
        "x_train = x_train.reshape(-1,1)\n",
        "x_test = x_test.reshape(-1,1)"
      ],
      "execution_count": 0,
      "outputs": []
    },
    {
      "cell_type": "markdown",
      "metadata": {
        "colab_type": "text",
        "id": "QMuC7cWbVJ_E"
      },
      "source": [
        "**Fit the dataset to Linear Regression Model**"
      ]
    },
    {
      "cell_type": "code",
      "metadata": {
        "id": "W0dE8XcawmQT",
        "colab_type": "code",
        "colab": {}
      },
      "source": [
        "clf = LinearRegression(normalize=True)\n",
        "clf.fit(x_train,y_train)\n",
        "y_pred = clf.predict(x_test)"
      ],
      "execution_count": 0,
      "outputs": []
    },
    {
      "cell_type": "markdown",
      "metadata": {
        "colab_type": "text",
        "id": "BwCw-AIFVK8T"
      },
      "source": [
        "**Print Coefficients , MSE and R2 Square**"
      ]
    },
    {
      "cell_type": "code",
      "metadata": {
        "id": "oCij1gYSwojQ",
        "colab_type": "code",
        "outputId": "88970770-dc6f-457c-f204-b8e991f06cef",
        "colab": {
          "base_uri": "https://localhost:8080/",
          "height": 85
        }
      },
      "source": [
        "print('Coefficients: \\n', clf.coef_)\n",
        "# The mean squared error\n",
        "print('Mean squared error: %.2f'\n",
        "      % mean_squared_error(y_test,y_pred))\n",
        "\n",
        "\n",
        "print(r2_score(y_test,y_pred))"
      ],
      "execution_count": 0,
      "outputs": [
        {
          "output_type": "stream",
          "text": [
            "Coefficients: \n",
            " [1.00065638]\n",
            "Mean squared error: 9.43\n",
            "0.9888014444327563\n"
          ],
          "name": "stdout"
        }
      ]
    },
    {
      "cell_type": "markdown",
      "metadata": {
        "colab_type": "text",
        "id": "c4bsEv8qVMlT"
      },
      "source": [
        "**Plot the data points**"
      ]
    },
    {
      "cell_type": "code",
      "metadata": {
        "id": "bu7s1dPBxC6G",
        "colab_type": "code",
        "outputId": "805994ce-a39c-449c-867e-919d9f63c5b6",
        "colab": {
          "base_uri": "https://localhost:8080/",
          "height": 592
        }
      },
      "source": [
        "plt.figure(figsize=(10,10))\n",
        "plt.scatter(x_test,y_test,color='red')\n",
        "plt.plot(x_test, y_pred, color='blue', linewidth=3)\n",
        "plt.show()"
      ],
      "execution_count": 0,
      "outputs": [
        {
          "output_type": "display_data",
          "data": {
            "image/png": "[encoded data removed]",
            "text/plain": [
              "<Figure size 720x720 with 1 Axes>"
            ]
          },
          "metadata": {
            "tags": [],
            "needs_background": "light"
          }
        }
      ]
    }
  ]
}